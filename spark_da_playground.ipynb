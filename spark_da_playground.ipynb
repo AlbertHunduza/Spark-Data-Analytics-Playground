{
 "cells": [
  {
   "cell_type": "markdown",
   "metadata": {},
   "source": [
    "# Spark Data Analytics Playground <br>\n",
    "### A project by Albert Hunduza"
   ]
  },
  {
   "cell_type": "markdown",
   "metadata": {},
   "source": [
    "## Part 1: Basic Operations on Resilient Distributed Datasets (RDDs)"
   ]
  },
  {
   "cell_type": "markdown",
   "metadata": {},
   "source": [
    "#### In this section we will attempt to answer this question:"
   ]
  },
  {
   "cell_type": "markdown",
   "metadata": {},
   "source": [
    "![Basic Operations](part1.png)\n"
   ]
  },
  {
   "cell_type": "code",
   "execution_count": 1,
   "metadata": {},
   "outputs": [
    {
     "name": "stderr",
     "output_type": "stream",
     "text": [
      "23/08/22 09:40:48 WARN Utils: Your hostname, albert resolves to a loopback address: 127.0.1.1; using 192.168.0.170 instead (on interface wlp5s0)\n",
      "23/08/22 09:40:48 WARN Utils: Set SPARK_LOCAL_IP if you need to bind to another address\n",
      "Setting default log level to \"WARN\".\n",
      "To adjust logging level use sc.setLogLevel(newLevel). For SparkR, use setLogLevel(newLevel).\n",
      "23/08/22 09:40:48 WARN NativeCodeLoader: Unable to load native-hadoop library for your platform... using builtin-java classes where applicable\n"
     ]
    },
    {
     "name": "stdout",
     "output_type": "stream",
     "text": [
      "SparkContext: <SparkContext master=local appName=RDDOperations>\n"
     ]
    }
   ],
   "source": [
    "# import SparkContext from PySpark module\n",
    "from pyspark import SparkContext\n",
    "sc = SparkContext(\"local\", \"RDDOperations\")# creates SparkContext\n",
    "print('SparkContext:', sc) # prints configuration of SparkContext"
   ]
  },
  {
   "cell_type": "markdown",
   "metadata": {},
   "source": [
    "### 1) Creating RDDs"
   ]
  },
  {
   "cell_type": "markdown",
   "metadata": {},
   "source": [
    "* we start by creating the RDDs with the lists of words using the parallelize() function"
   ]
  },
  {
   "cell_type": "code",
   "execution_count": 2,
   "metadata": {},
   "outputs": [],
   "source": [
    "a = sc.parallelize([\"spark\", \"rdd\", \"python\", \"context\", \"create\", \"class\"]) # creates RDD of a\n",
    "b = sc.parallelize([\"operation\", \"apache\", \"scala\", \"lambda\",\"parallel\",\"partition\"]) # creates RDD of b"
   ]
  },
  {
   "cell_type": "markdown",
   "metadata": {},
   "source": [
    "### 2) Performing Joins"
   ]
  },
  {
   "cell_type": "markdown",
   "metadata": {},
   "source": [
    "* In order to retain the words (not letters) after joining,  we map each word to a count, and since there is just one instance of each distinct word, they all get a count of 1"
   ]
  },
  {
   "cell_type": "code",
   "execution_count": 3,
   "metadata": {},
   "outputs": [],
   "source": [
    "# mapping words to counts\n",
    "a_counts = a.map(lambda x: (x, 1)) #  maps each word to a count\n",
    "b_counts = b.map(lambda x: (x, 1)) # maps each word to a count"
   ]
  },
  {
   "cell_type": "code",
   "execution_count": 4,
   "metadata": {},
   "outputs": [
    {
     "name": "stderr",
     "output_type": "stream",
     "text": [
      "[Stage 0:>                                                          (0 + 1) / 2]\r"
     ]
    },
    {
     "name": "stdout",
     "output_type": "stream",
     "text": [
      "Right outer join of a and b gives: [('scala', (None, 1)), ('parallel', (None, 1)), ('partition', (None, 1)), ('operation', (None, 1)), ('apache', (None, 1)), ('lambda', (None, 1))]\n"
     ]
    },
    {
     "name": "stderr",
     "output_type": "stream",
     "text": [
      "                                                                                \r"
     ]
    }
   ],
   "source": [
    "right_outer_joined = a_counts.rightOuterJoin(b_counts) # performs right outer join\n",
    "print('Right outer join of a and b gives:', right_outer_joined.collect())"
   ]
  },
  {
   "cell_type": "markdown",
   "metadata": {},
   "source": [
    "* The right outer join returns all matching rows and rows from the RDD on the right. Since there were no matching rows between the 2 RDDs, it returned all the values from the RDD on the right <br>\n",
    "  and null values for the left RDD"
   ]
  },
  {
   "cell_type": "code",
   "execution_count": 5,
   "metadata": {},
   "outputs": [
    {
     "name": "stdout",
     "output_type": "stream",
     "text": [
      "Full outer join of a and b gives: [('python', (1, None)), ('class', (1, None)), ('scala', (None, 1)), ('parallel', (None, 1)), ('partition', (None, 1)), ('spark', (1, None)), ('rdd', (1, None)), ('context', (1, None)), ('create', (1, None)), ('operation', (None, 1)), ('apache', (None, 1)), ('lambda', (None, 1))]\n"
     ]
    }
   ],
   "source": [
    "full_outer_joined = a_counts.fullOuterJoin(b_counts) # performs full outer join\n",
    "print('Full outer join of a and b gives:', full_outer_joined.collect())"
   ]
  },
  {
   "cell_type": "markdown",
   "metadata": {},
   "source": [
    "* The full outer join returns all matching rows, and all rows from both the left and right RDDs. This is why it returned all values from both datasets with null values to represent the <br>\n",
    "  opposite RDD in each case since there were no matching rows"
   ]
  },
  {
   "cell_type": "markdown",
   "metadata": {},
   "source": [
    "### 3) Counting Characters"
   ]
  },
  {
   "cell_type": "markdown",
   "metadata": {},
   "source": [
    "* to count the number of appearances of 's' from both RDDs, we combine the RDDs using a union function. We then separate each word into letters and group all the letters in one list. <br>\n",
    "  Next, we filter out the 's' s into a list of their own"
   ]
  },
  {
   "cell_type": "code",
   "execution_count": 6,
   "metadata": {},
   "outputs": [],
   "source": [
    "a_b = a.union(b) # combines a and b \n",
    "letters = a_b.flatMap(lambda x: list(x)) # gets list of all letters in a and b\n",
    "s_list = letters.filter(lambda x: x =='s') # filters all the \"s\"s"
   ]
  },
  {
   "cell_type": "code",
   "execution_count": 7,
   "metadata": {},
   "outputs": [
    {
     "data": {
      "text/plain": [
       "[('s', 4)]"
      ]
     },
     "execution_count": 7,
     "metadata": {},
     "output_type": "execute_result"
    }
   ],
   "source": [
    "# using map and reduce\n",
    "s_list.map(lambda x: (x, 1)).reduceByKey(lambda x,y:x+y).collect()"
   ]
  },
  {
   "cell_type": "code",
   "execution_count": 8,
   "metadata": {},
   "outputs": [
    {
     "name": "stdout",
     "output_type": "stream",
     "text": [
      "Number of times 's' appears is:  4\n"
     ]
    }
   ],
   "source": [
    "# using count (aggregate function)\n",
    "print(\"Number of times 's' appears is: \", s_list.count()) # counts \"s\"s and prints"
   ]
  },
  {
   "cell_type": "markdown",
   "metadata": {},
   "source": [
    "* both the aggregate function, and the count function get a result of 4 corroborating each other"
   ]
  },
  {
   "cell_type": "markdown",
   "metadata": {},
   "source": [
    "## Part B: Basic Operations on DataFrames"
   ]
  },
  {
   "cell_type": "markdown",
   "metadata": {},
   "source": [
    "#### For this section we will attempt to answer this question using a Dataframe created using the students.json dataset:"
   ]
  },
  {
   "cell_type": "markdown",
   "metadata": {},
   "source": [
    "![DataFrames](part2.png)"
   ]
  },
  {
   "cell_type": "code",
   "execution_count": 9,
   "metadata": {},
   "outputs": [
    {
     "data": {
      "text/plain": [
       "DataFrame[key: string, value: string]"
      ]
     },
     "execution_count": 9,
     "metadata": {},
     "output_type": "execute_result"
    }
   ],
   "source": [
    "# importing necessary packages\n",
    "\n",
    "from pyspark.sql import SparkSession # necessary package to start session\n",
    "import pyspark.sql.functions as F # necessary parkage to perform operations\n",
    "spark = SparkSession.builder.master('local[1]').appName('JSON loader').getOrCreate() # creates session\n",
    "spark.sql(\"set spark.sql.legacy.timeParserPolicy=LEGACY\") # bypasses error caused by new version of pyspark"
   ]
  },
  {
   "cell_type": "markdown",
   "metadata": {},
   "source": [
    "* we start by reading in the dataset"
   ]
  },
  {
   "cell_type": "code",
   "execution_count": 10,
   "metadata": {},
   "outputs": [
    {
     "name": "stdout",
     "output_type": "stream",
     "text": [
      "+------------------+------------------+----------+---------+------+----+\n",
      "|            course|               dob|first_name|last_name|points|s_id|\n",
      "+------------------+------------------+----------+---------+------+----+\n",
      "|Humanities and Art|  October 14, 1983|      Alan|      Joe|    10|   1|\n",
      "|  Computer Science|September 26, 1980|    Martin|  Genberg|    17|   2|\n",
      "|    Graphic Design|     June 12, 1982|     Athur|   Watson|    16|   3|\n",
      "|    Graphic Design|     April 5, 1987|  Anabelle|  Sanberg|    12|   4|\n",
      "|        Psychology|  November 1, 1978|      Kira| Schommer|    11|   5|\n",
      "+------------------+------------------+----------+---------+------+----+\n",
      "only showing top 5 rows\n",
      "\n"
     ]
    }
   ],
   "source": [
    "students_df = spark.read.json(r'students.json') # reads json file\n",
    "students_df.show(5) # prints dataframe"
   ]
  },
  {
   "cell_type": "markdown",
   "metadata": {},
   "source": [
    "* After reading in the DataFrame, we can print its schema in order to understand its datatypes better"
   ]
  },
  {
   "cell_type": "code",
   "execution_count": 11,
   "metadata": {},
   "outputs": [
    {
     "name": "stdout",
     "output_type": "stream",
     "text": [
      "root\n",
      " |-- course: string (nullable = true)\n",
      " |-- dob: string (nullable = true)\n",
      " |-- first_name: string (nullable = true)\n",
      " |-- last_name: string (nullable = true)\n",
      " |-- points: long (nullable = true)\n",
      " |-- s_id: long (nullable = true)\n",
      "\n"
     ]
    }
   ],
   "source": [
    "students_df.printSchema() # prints schema"
   ]
  },
  {
   "cell_type": "markdown",
   "metadata": {},
   "source": [
    "* we can also use the describe function to get a summary function, and perhaps more conveniently, get the mean and standard deviation which are required in the next phase"
   ]
  },
  {
   "cell_type": "code",
   "execution_count": 12,
   "metadata": {},
   "outputs": [
    {
     "name": "stderr",
     "output_type": "stream",
     "text": [
      "23/08/22 09:41:07 WARN package: Truncated the string representation of a plan since it was too large. This behavior can be adjusted by setting 'spark.sql.debug.maxToStringFields'.\n"
     ]
    },
    {
     "name": "stdout",
     "output_type": "stream",
     "text": [
      "+-------+----------+------------------+----------+---------+------------------+-----------------+\n",
      "|summary|    course|               dob|first_name|last_name|            points|             s_id|\n",
      "+-------+----------+------------------+----------+---------+------------------+-----------------+\n",
      "|  count|        20|                19|        20|       18|                19|               20|\n",
      "|   mean|      null|              null|      null|     null|11.736842105263158|             10.5|\n",
      "| stddev|      null|              null|      null|     null|3.3307007147839007|5.916079783099616|\n",
      "|    min|  Business|    1 January 1984|      Alan|  Ballard|                 6|                1|\n",
      "|    max|Psychology|September 26, 1980|   Zachary|    Weber|                19|               20|\n",
      "+-------+----------+------------------+----------+---------+------------------+-----------------+\n",
      "\n"
     ]
    }
   ],
   "source": [
    "students_df.describe().show() # prints summary of dataframe"
   ]
  },
  {
   "cell_type": "markdown",
   "metadata": {},
   "source": [
    "### 1) Cleaning the DataFrame"
   ]
  },
  {
   "cell_type": "markdown",
   "metadata": {},
   "source": [
    "* To clean the data, we start by filling in all the null values. We fill in the null values in the points column with the mean of 12 which we obtained from above.<br>\n",
    " Note: We round up to 12 here since all the other figures for points are whole numbers "
   ]
  },
  {
   "cell_type": "code",
   "execution_count": 13,
   "metadata": {},
   "outputs": [
    {
     "name": "stdout",
     "output_type": "stream",
     "text": [
      "+------------------+------------------+----------+---------+------+----+\n",
      "|            course|               dob|first_name|last_name|points|s_id|\n",
      "+------------------+------------------+----------+---------+------+----+\n",
      "|Humanities and Art|  October 14, 1983|      Alan|      Joe|    10|   1|\n",
      "|  Computer Science|September 26, 1980|    Martin|  Genberg|    17|   2|\n",
      "|    Graphic Design|     June 12, 1982|     Athur|   Watson|    16|   3|\n",
      "|    Graphic Design|     April 5, 1987|  Anabelle|  Sanberg|    12|   4|\n",
      "|        Psychology|  November 1, 1978|      Kira| Schommer|    11|   5|\n",
      "|          Business|  17 February 1981| Christian|   Kiriam|    10|   6|\n",
      "|  Machine Learning|    1 January 1984|   Barbara|  Ballard|    14|   7|\n",
      "|     Deep Learning|  January 13, 1978|      John|     null|    10|   8|\n",
      "|  Machine Learning|  26 December 1989|    Marcus|   Carson|    15|   9|\n",
      "|           Physics|  30 December 1987|     Marta|   Brooks|    11|  10|\n",
      "|    Data Analytics|     June 12, 1975|     Holly| Schwartz|    12|  11|\n",
      "|  Computer Science|      July 2, 1985|     April|    Black|    12|  12|\n",
      "|  Computer Science|     July 22, 1980|     Irene|  Bradley|    13|  13|\n",
      "|        Psychology|   7 February 1986|      Mark|    Weber|    12|  14|\n",
      "|       Informatics|      May 18, 1987|     Rosie|   Norman|     9|  15|\n",
      "|          Business|   August 10, 1984|    Martin|   Steele|     7|  16|\n",
      "|  Machine Learning|  16 December 1990|     Colin| Martinez|     9|  17|\n",
      "|    Data Analytics|              null|   Bridget|    Twain|     6|  18|\n",
      "|          Business|      7 March 1980|   Darlene|    Mills|    19|  19|\n",
      "|    Data Analytics|      June 2, 1985|   Zachary|     null|    10|  20|\n",
      "+------------------+------------------+----------+---------+------+----+\n",
      "\n"
     ]
    }
   ],
   "source": [
    "students_df_fill_points = students_df.na.fill({'points': 12}) # fills null values in points column\n",
    "students_df_fill_points.show()"
   ]
  },
  {
   "cell_type": "markdown",
   "metadata": {},
   "source": [
    "* Next, we fill the null values in the other columns using the prescribed words and symbols"
   ]
  },
  {
   "cell_type": "code",
   "execution_count": 14,
   "metadata": {},
   "outputs": [
    {
     "name": "stdout",
     "output_type": "stream",
     "text": [
      "+------------------+------------------+----------+---------+------+----+\n",
      "|            course|               dob|first_name|last_name|points|s_id|\n",
      "+------------------+------------------+----------+---------+------+----+\n",
      "|Humanities and Art|  October 14, 1983|      Alan|      Joe|    10|   1|\n",
      "|  Computer Science|September 26, 1980|    Martin|  Genberg|    17|   2|\n",
      "|    Graphic Design|     June 12, 1982|     Athur|   Watson|    16|   3|\n",
      "|    Graphic Design|     April 5, 1987|  Anabelle|  Sanberg|    12|   4|\n",
      "|        Psychology|  November 1, 1978|      Kira| Schommer|    11|   5|\n",
      "|          Business|  17 February 1981| Christian|   Kiriam|    10|   6|\n",
      "|  Machine Learning|    1 January 1984|   Barbara|  Ballard|    14|   7|\n",
      "|     Deep Learning|  January 13, 1978|      John|       --|    10|   8|\n",
      "|  Machine Learning|  26 December 1989|    Marcus|   Carson|    15|   9|\n",
      "|           Physics|  30 December 1987|     Marta|   Brooks|    11|  10|\n",
      "|    Data Analytics|     June 12, 1975|     Holly| Schwartz|    12|  11|\n",
      "|  Computer Science|      July 2, 1985|     April|    Black|    12|  12|\n",
      "|  Computer Science|     July 22, 1980|     Irene|  Bradley|    13|  13|\n",
      "|        Psychology|   7 February 1986|      Mark|    Weber|    12|  14|\n",
      "|       Informatics|      May 18, 1987|     Rosie|   Norman|     9|  15|\n",
      "|          Business|   August 10, 1984|    Martin|   Steele|     7|  16|\n",
      "|  Machine Learning|  16 December 1990|     Colin| Martinez|     9|  17|\n",
      "|    Data Analytics|            unkown|   Bridget|    Twain|     6|  18|\n",
      "|          Business|      7 March 1980|   Darlene|    Mills|    19|  19|\n",
      "|    Data Analytics|      June 2, 1985|   Zachary|       --|    10|  20|\n",
      "+------------------+------------------+----------+---------+------+----+\n",
      "\n"
     ]
    }
   ],
   "source": [
    "students_df_fill_string = students_df_fill_points.na.fill({'dob': 'unkown', 'last_name': '--'}) # fills null values in dob and last_name columns\n",
    "students_df_fill_string.show()"
   ]
  },
  {
   "cell_type": "markdown",
   "metadata": {},
   "source": [
    "* moving on, we can reformat the 'dob' column to use one consistent format"
   ]
  },
  {
   "cell_type": "code",
   "execution_count": 19,
   "metadata": {},
   "outputs": [
    {
     "name": "stdout",
     "output_type": "stream",
     "text": [
      "+------------------+----------+----------+---------+------+----+\n",
      "|            course|       dob|first_name|last_name|points|s_id|\n",
      "+------------------+----------+----------+---------+------+----+\n",
      "|Humanities and Art|14-10-1983|      Alan|      Joe|    10|   1|\n",
      "|  Computer Science|26-09-1980|    Martin|  Genberg|    17|   2|\n",
      "|    Graphic Design|12-06-1982|     Athur|   Watson|    16|   3|\n",
      "|    Graphic Design|05-04-1987|  Anabelle|  Sanberg|    12|   4|\n",
      "|        Psychology|01-11-1978|      Kira| Schommer|    11|   5|\n",
      "+------------------+----------+----------+---------+------+----+\n",
      "only showing top 5 rows\n",
      "\n"
     ]
    }
   ],
   "source": [
    "students_df_date_reformatted = students_df_fill_string.withColumn(\n",
    "    \"dob\",\n",
    "    F.when(\n",
    "        F.to_date(F.col(\"dob\"), \"MMMM dd, yyyy\").isNotNull(),\n",
    "        F.to_date(F.col(\"dob\"), \"MMMM dd, yyyy\")  # for date with format 'October 14, 1983'\n",
    "    ).otherwise(\n",
    "        F.when(\n",
    "            F.to_date(F.col(\"dob\"), \"dd MMMM yy\").isNotNull(),\n",
    "            F.to_date(F.col(\"dob\"), \"dd MMMM yy\")  # for date with format '30 December 1987'\n",
    "        )\n",
    "    )\n",
    ")\n",
    "\n",
    "students_df_date_reformatted = students_df_date_reformatted.withColumn(\"dob\", F.date_format(F.to_date(\"dob\", \"dd MMM yyyy\"), \"dd-MM-yyyy\"))  # reformats new date to 'DD-MM-YYYY'\n",
    "\n",
    "# Replace null values created in above operations in \"dob\" column with 'unknown'\n",
    "students_df_date_reformatted = students_df_date_reformatted.withColumn(\"dob\", F.when(F.col(\"dob\").isNull(), \"unknown\").otherwise(F.col(\"dob\")))\n",
    "\n",
    "students_df_date_reformatted.show(5)"
   ]
  },
  {
   "cell_type": "markdown",
   "metadata": {},
   "source": [
    "### 2) Adding an 'age' column"
   ]
  },
  {
   "cell_type": "markdown",
   "metadata": {},
   "source": [
    "* we can calculate the age of the students by calculating the number of months from their dates of births to the the current date, and then dividing by 12 to get their age in years"
   ]
  },
  {
   "cell_type": "code",
   "execution_count": 31,
   "metadata": {},
   "outputs": [
    {
     "name": "stdout",
     "output_type": "stream",
     "text": [
      "+------------------+----------+----------+---------+------+----+-------+\n",
      "|            course|       dob|first_name|last_name|points|s_id|    age|\n",
      "+------------------+----------+----------+---------+------+----+-------+\n",
      "|Humanities and Art|14-10-1983|      Alan|      Joe|    10|   1|     39|\n",
      "|  Computer Science|26-09-1980|    Martin|  Genberg|    17|   2|     42|\n",
      "|    Graphic Design|12-06-1982|     Athur|   Watson|    16|   3|     41|\n",
      "|    Graphic Design|05-04-1987|  Anabelle|  Sanberg|    12|   4|     36|\n",
      "|        Psychology|01-11-1978|      Kira| Schommer|    11|   5|     44|\n",
      "|          Business|17-02-1981| Christian|   Kiriam|    10|   6|     42|\n",
      "|  Machine Learning|01-01-1984|   Barbara|  Ballard|    14|   7|     39|\n",
      "|     Deep Learning|13-01-1978|      John|       --|    10|   8|     45|\n",
      "|  Machine Learning|26-12-1989|    Marcus|   Carson|    15|   9|     33|\n",
      "|           Physics|30-12-1987|     Marta|   Brooks|    11|  10|     35|\n",
      "|    Data Analytics|12-06-1975|     Holly| Schwartz|    12|  11|     48|\n",
      "|  Computer Science|02-07-1985|     April|    Black|    12|  12|     38|\n",
      "|  Computer Science|22-07-1980|     Irene|  Bradley|    13|  13|     43|\n",
      "|        Psychology|07-02-1986|      Mark|    Weber|    12|  14|     37|\n",
      "|       Informatics|18-05-1987|     Rosie|   Norman|     9|  15|     36|\n",
      "|          Business|10-08-1984|    Martin|   Steele|     7|  16|     39|\n",
      "|  Machine Learning|16-12-1990|     Colin| Martinez|     9|  17|     32|\n",
      "|    Data Analytics|   unknown|   Bridget|    Twain|     6|  18|unknown|\n",
      "|          Business|07-03-1980|   Darlene|    Mills|    19|  19|     43|\n",
      "|    Data Analytics|02-06-1985|   Zachary|       --|    10|  20|     38|\n",
      "+------------------+----------+----------+---------+------+----+-------+\n",
      "\n"
     ]
    }
   ],
   "source": [
    "# calculate student age in months\n",
    "students_df_with_months = students_df_date_reformatted.withColumn('age_in_months', F.months_between(F.current_date(), F.to_date(F.col('dob'), 'dd-MM-yyyy')))\n",
    "\n",
    "# Calculate age in years and store as a whole integer in 'age' column\n",
    "students_df_with_age = students_df_with_months.withColumn('age', (F.col('age_in_months') / 12).cast('int')).drop('age_in_months')\n",
    "\n",
    "# Change null values in 'age' column to 'unknown'\n",
    "students_df_with_age = students_df_with_age.withColumn('age', F.when(F.col('age').isNull(), 'unknown').otherwise(F.col('age')))\n",
    "\n",
    "# Show the DataFrame\n",
    "students_df_with_age.show()"
   ]
  },
  {
   "cell_type": "markdown",
   "metadata": {},
   "source": [
    "* once again, we can use the describe function to get a summary of the data and the values for mean and standard deviation which will be required later"
   ]
  },
  {
   "cell_type": "code",
   "execution_count": 32,
   "metadata": {},
   "outputs": [
    {
     "name": "stdout",
     "output_type": "stream",
     "text": [
      "+-------+----------+----------+----------+---------+------------------+-----------------+------------------+\n",
      "|summary|    course|       dob|first_name|last_name|            points|             s_id|               age|\n",
      "+-------+----------+----------+----------+---------+------------------+-----------------+------------------+\n",
      "|  count|        20|        20|        20|       20|                20|               20|                20|\n",
      "|   mean|      null|      null|      null|     null|             11.75|             10.5|39.473684210526315|\n",
      "| stddev|      null|      null|      null|     null|3.2424000207773322|5.916079783099616| 4.194817186489796|\n",
      "|    min|  Business|01-01-1984|      Alan|       --|                 6|                1|                32|\n",
      "|    max|Psychology|   unknown|   Zachary|    Weber|                19|               20|           unknown|\n",
      "+-------+----------+----------+----------+---------+------------------+-----------------+------------------+\n",
      "\n"
     ]
    }
   ],
   "source": [
    "students_df_with_age.describe().show() # prints summary"
   ]
  },
  {
   "cell_type": "markdown",
   "metadata": {},
   "source": [
    "### 3) Rewarding well-performing students"
   ]
  },
  {
   "cell_type": "markdown",
   "metadata": {},
   "source": [
    "* We use the prescribed conditions to update the points column. Since the mean is 11.75 and the standard deviation was 3.24, we increase all students with 15 points (1 stddev higher than <br>  the mean) to 20"
   ]
  },
  {
   "cell_type": "code",
   "execution_count": 34,
   "metadata": {},
   "outputs": [
    {
     "name": "stdout",
     "output_type": "stream",
     "text": [
      "+------------------+----------+----------+---------+------+----+-------+\n",
      "|            course|       dob|first_name|last_name|points|s_id|    age|\n",
      "+------------------+----------+----------+---------+------+----+-------+\n",
      "|Humanities and Art|14-10-1983|      Alan|      Joe|    10|   1|     39|\n",
      "|  Computer Science|26-09-1980|    Martin|  Genberg|    20|   2|     42|\n",
      "|    Graphic Design|12-06-1982|     Athur|   Watson|    20|   3|     41|\n",
      "|    Graphic Design|05-04-1987|  Anabelle|  Sanberg|    12|   4|     36|\n",
      "|        Psychology|01-11-1978|      Kira| Schommer|    11|   5|     44|\n",
      "|          Business|17-02-1981| Christian|   Kiriam|    10|   6|     42|\n",
      "|  Machine Learning|01-01-1984|   Barbara|  Ballard|    14|   7|     39|\n",
      "|     Deep Learning|13-01-1978|      John|       --|    10|   8|     45|\n",
      "|  Machine Learning|26-12-1989|    Marcus|   Carson|    20|   9|     33|\n",
      "|           Physics|30-12-1987|     Marta|   Brooks|    11|  10|     35|\n",
      "|    Data Analytics|12-06-1975|     Holly| Schwartz|    12|  11|     48|\n",
      "|  Computer Science|02-07-1985|     April|    Black|    12|  12|     38|\n",
      "|  Computer Science|22-07-1980|     Irene|  Bradley|    13|  13|     43|\n",
      "|        Psychology|07-02-1986|      Mark|    Weber|    12|  14|     37|\n",
      "|       Informatics|18-05-1987|     Rosie|   Norman|     9|  15|     36|\n",
      "|          Business|10-08-1984|    Martin|   Steele|     7|  16|     39|\n",
      "|  Machine Learning|16-12-1990|     Colin| Martinez|     9|  17|     32|\n",
      "|    Data Analytics|   unknown|   Bridget|    Twain|     6|  18|unknown|\n",
      "|          Business|07-03-1980|   Darlene|    Mills|    20|  19|     43|\n",
      "|    Data Analytics|02-06-1985|   Zachary|       --|    10|  20|     38|\n",
      "+------------------+----------+----------+---------+------+----+-------+\n",
      "\n"
     ]
    }
   ],
   "source": [
    "students_df_final = students_df_with_age.withColumn(\"points\", F.when(students_df_with_age.points >= 15, 20).otherwise(students_df_with_age.points)) # updates points conditionally\n",
    "students_df_final.show()"
   ]
  },
  {
   "cell_type": "markdown",
   "metadata": {},
   "source": [
    "* To finish this part, we use the Matplotlib library to plot the histogram of points. We achieve this by first turning the points column into a Pandas list and then plotting it."
   ]
  },
  {
   "cell_type": "code",
   "execution_count": 35,
   "metadata": {},
   "outputs": [
    {
     "data": {
      "image/png": "[encoded data removed]",
      "text/plain": [
       "<Figure size 640x480 with 1 Axes>"
      ]
     },
     "metadata": {},
     "output_type": "display_data"
    }
   ],
   "source": [
    "import matplotlib.pyplot as plt # necessary for plotting\n",
    "points = students_df_final.toPandas()['points'].values.tolist() # creates list of points\n",
    "\n",
    "plt.hist(points, bins=20) # plots histogram\n",
    "plt.title('Histogram of Points')\n",
    "plt.xlabel('Points')\n",
    "plt.ylabel('# of Students')\n",
    "plt.show()"
   ]
  },
  {
   "cell_type": "markdown",
   "metadata": {},
   "source": [
    "## Part C: Manipulating Recommender Dataset using Apache Spark"
   ]
  },
  {
   "cell_type": "markdown",
   "metadata": {},
   "source": [
    "#### Finally, we will attempt to answer this question:"
   ]
  },
  {
   "cell_type": "markdown",
   "metadata": {},
   "source": [
    "![Recommender](part3.png)"
   ]
  },
  {
   "cell_type": "markdown",
   "metadata": {},
   "source": [
    "* we start by reading in the .dat file"
   ]
  },
  {
   "cell_type": "code",
   "execution_count": 36,
   "metadata": {},
   "outputs": [
    {
     "name": "stdout",
     "output_type": "stream",
     "text": [
      "+------+-------+--------------------+----------+\n",
      "|UserID|MovieID|                 Tag| Timestamp|\n",
      "+------+-------+--------------------+----------+\n",
      "|    15|   4973|          excellent!|1215184630|\n",
      "|    20|   1747|            politics|1188263867|\n",
      "|    20|   1747|              satire|1188263867|\n",
      "|    20|   2424|     chick flick 212|1188263835|\n",
      "|    20|   2424|               hanks|1188263835|\n",
      "|    20|   2424|                ryan|1188263835|\n",
      "|    20|   2947|              action|1188263755|\n",
      "|    20|   2947|                bond|1188263756|\n",
      "|    20|   3033|               spoof|1188263880|\n",
      "|    20|   3033|           star wars|1188263880|\n",
      "|    20|   7438|              bloody|1188263801|\n",
      "|    20|   7438|             kung fu|1188263801|\n",
      "|    20|   7438|           Tarantino|1188263801|\n",
      "|    21|  55247|                   R|1205081506|\n",
      "|    21|  55253|               NC-17|1205081488|\n",
      "|    25|     50|        Kevin Spacey|1166101426|\n",
      "|    25|   6709|         Johnny Depp|1162147221|\n",
      "|    31|     65|        buddy comedy|1188263759|\n",
      "|    31|    546|strangely compelling|1188263674|\n",
      "|    31|   1091|         catastrophe|1188263741|\n",
      "+------+-------+--------------------+----------+\n",
      "only showing top 20 rows\n",
      "\n"
     ]
    }
   ],
   "source": [
    "tags_df = spark.read.option('header', 'False') \\\n",
    "    .option('delimiter', '::') \\\n",
    "    .option('inferSchema', 'True') \\\n",
    "    .csv(r'tags.dat') \\\n",
    "    .toDF('UserID', 'MovieID', 'Tag', 'Timestamp')  # sets column names\n",
    "\n",
    "tags_df.show()"
   ]
  },
  {
   "cell_type": "markdown",
   "metadata": {},
   "source": [
    "* The first task in this exercise is to separate the tagging sessions for each user. We can approach this in the following steps: <br>\n",
    "<br>\n",
    "  <sp> 1) reorder the  rows by Timestamps in ascending order to get chronology (this is within the main ordering by UserID which was already performed) <br>\n",
    "  <sp> 2) create an offset column of the Timestamps to use in the next step <br>\n",
    "  <sp> 3) subtract the Current Timestamp from the previous one (offset from above) to get the gap between tags <br>\n",
    "  <sp> 4) create a new column for the \"SessionIDs\" <br>\n",
    "  <sp> 5) create an offset column of the Timestamps to use in the next step <br>\n",
    "  <sp> 6) reset the SessionID to 1 whenever a new UserID is encountered <br>\n",
    "  <sp> 7) increase the SessionID by one whenever there is a Timestamp diffrence greater than or equal to 1800 (60 seconds * 30 minutes) whithin a particular UserID window <br>\n",
    "  <sp> 8) keep the SessionID within a UserID window constant if the condition above is not met <br>"
   ]
  },
  {
   "cell_type": "code",
   "execution_count": 37,
   "metadata": {},
   "outputs": [
    {
     "name": "stdout",
     "output_type": "stream",
     "text": [
      "+------+-------+---------------+----------+---------+\n",
      "|UserID|MovieID|            Tag| Timestamp|SessionID|\n",
      "+------+-------+---------------+----------+---------+\n",
      "|    15|   4973|     excellent!|1215184630|        1|\n",
      "|    20|   2947|         action|1188263755|        1|\n",
      "|    20|   2947|           bond|1188263756|        1|\n",
      "|    20|   7438|         bloody|1188263801|        1|\n",
      "|    20|   7438|        kung fu|1188263801|        1|\n",
      "|    20|   7438|      Tarantino|1188263801|        1|\n",
      "|    20|   2424|chick flick 212|1188263835|        1|\n",
      "|    20|   2424|          hanks|1188263835|        1|\n",
      "|    20|   2424|           ryan|1188263835|        1|\n",
      "|    20|   1747|       politics|1188263867|        1|\n",
      "+------+-------+---------------+----------+---------+\n",
      "only showing top 10 rows\n",
      "\n"
     ]
    }
   ],
   "source": [
    "from pyspark.sql.window import Window\n",
    "\n",
    "tags_df = tags_df.withColumn(\"SessionID\",F.lag(\"Timestamp\").over(Window.partitionBy(\"UserID\").orderBy(\"Timestamp\"))) # offsets timestamp by one row downwards\n",
    "tags_df = tags_df.withColumn(\"SessionID\",F.when(F.col(\"Timestamp\") - F.col(\"SessionID\") <= 1800, 0).otherwise(1)) # assigns a SessionID of 1 to every new UserID\n",
    "tags_df = tags_df.withColumn(\"SessionID\", F.sum(\"SessionID\").over(Window.partitionBy(\"UserID\").orderBy(\"Timestamp\"))) # increases SessionID by 1 if Timestamp difference greater than 1800\n",
    "tags_df.show(10)"
   ]
  },
  {
   "cell_type": "markdown",
   "metadata": {},
   "source": [
    "* The next task was to calculate the frequncy of tagging for each user session. I interprated this to mean the number of tags per session for each user. <br>\n",
    "* I calculated this by Grouping the DataFrame from above by both the UserID and the SessionID. This gave the result shown above"
   ]
  },
  {
   "cell_type": "code",
   "execution_count": 38,
   "metadata": {},
   "outputs": [
    {
     "name": "stdout",
     "output_type": "stream",
     "text": [
      "+------+---------+-----+\n",
      "|UserID|SessionID|count|\n",
      "+------+---------+-----+\n",
      "|    15|        1|    1|\n",
      "|    20|        1|   12|\n",
      "|    21|        1|    2|\n",
      "|    25|        1|    1|\n",
      "|    25|        2|    1|\n",
      "|    31|        1|    5|\n",
      "|    32|        1|    1|\n",
      "|    39|        1|    5|\n",
      "|    48|        1|    2|\n",
      "|    49|        1|   15|\n",
      "+------+---------+-----+\n",
      "only showing top 10 rows\n",
      "\n"
     ]
    }
   ],
   "source": [
    "tags_per_session = tags_df.groupBy('UserID', 'SessionID').count() # calculates tags per session\n",
    "tags_per_session.show(10)"
   ]
  },
  {
   "cell_type": "code",
   "execution_count": 44,
   "metadata": {},
   "outputs": [
    {
     "name": "stdout",
     "output_type": "stream",
     "text": [
      "+------+------------------+\n",
      "|UserID|        avg(count)|\n",
      "+------+------------------+\n",
      "|    15|               1.0|\n",
      "|    20|              12.0|\n",
      "|    21|               2.0|\n",
      "|    25|               1.0|\n",
      "|    31|               5.0|\n",
      "|    32|               1.0|\n",
      "|    39|               5.0|\n",
      "|    48|               2.0|\n",
      "|    49|              15.0|\n",
      "|    75|               1.0|\n",
      "|    78|               1.0|\n",
      "|   109|2.7777777777777777|\n",
      "|   127|              26.0|\n",
      "|   133|               5.0|\n",
      "|   146| 4.948948948948949|\n",
      "|   170|               1.0|\n",
      "|   175|               1.0|\n",
      "|   181|               4.0|\n",
      "|   190|               6.5|\n",
      "|   222|               1.0|\n",
      "+------+------------------+\n",
      "only showing top 20 rows\n",
      "\n"
     ]
    }
   ],
   "source": [
    "avg_tags_per_session = tags_per_session.groupBy('UserID').mean('count') # calculates avg tags per session per user\n",
    "avg_tags_per_session.distinct().show()"
   ]
  },
  {
   "cell_type": "code",
   "execution_count": 47,
   "metadata": {},
   "outputs": [
    {
     "name": "stdout",
     "output_type": "stream",
     "text": [
      "+------+------------------+\n",
      "|UserID|stddev_samp(count)|\n",
      "+------+------------------+\n",
      "|    15|              null|\n",
      "|    20|              null|\n",
      "|    21|              null|\n",
      "|    25|               0.0|\n",
      "|    31|              null|\n",
      "|    32|              null|\n",
      "|    39|              null|\n",
      "|    48|              null|\n",
      "|    49|              null|\n",
      "|    75|              null|\n",
      "|    78|              null|\n",
      "|   109|3.2702361450580977|\n",
      "|   127|              null|\n",
      "|   133|              null|\n",
      "|   146| 9.010056652425451|\n",
      "|   170|              null|\n",
      "|   175|               0.0|\n",
      "|   181|              null|\n",
      "|   190|               7.0|\n",
      "|   222|              null|\n",
      "+------+------------------+\n",
      "only showing top 20 rows\n",
      "\n"
     ]
    }
   ],
   "source": [
    "from pyspark.sql.functions import stddev\n",
    "std_tags_per_session = tags_per_session.groupBy('UserID').agg(stddev('count')) # calculates the standard deviation per session per user\n",
    "std_tags_per_session.show()"
   ]
  },
  {
   "cell_type": "markdown",
   "metadata": {},
   "source": [
    "*NB: some users have a standard deviation of zero signifying that there is either only one value for that user or not enough variability in their tagging sessions to calculate a meaningful standard deviation*"
   ]
  },
  {
   "cell_type": "markdown",
   "metadata": {},
   "source": [
    "* The next step is to perform the same calculations, albeit this time across across users\n",
    "* We do this by getting the description (summary) of the table we created abouve with counts tags per session per user\n",
    "* This gives us the results across users"
   ]
  },
  {
   "cell_type": "code",
   "execution_count": 41,
   "metadata": {},
   "outputs": [
    {
     "name": "stdout",
     "output_type": "stream",
     "text": [
      "+-------+------------------+------------------+-----------------+\n",
      "|summary|            UserID|         SessionID|            count|\n",
      "+-------+------------------+------------------+-----------------+\n",
      "|  count|             13093|             13093|            13093|\n",
      "|   mean|31934.146872374553| 58.05315817612465|7.300084014358817|\n",
      "| stddev|20629.693282234624|140.18873484729968|22.26429305026498|\n",
      "|    min|                15|                 1|                1|\n",
      "|    max|             71556|               891|              531|\n",
      "+-------+------------------+------------------+-----------------+\n",
      "\n"
     ]
    }
   ],
   "source": [
    "tags_per_session.describe().show() # prints summary statistics"
   ]
  },
  {
   "cell_type": "markdown",
   "metadata": {},
   "source": [
    "* From the results above we can see that the mean is *7.300084014358817* tags per session and the standard deviation is *22.26429305026498*"
   ]
  },
  {
   "cell_type": "code",
   "execution_count": 42,
   "metadata": {},
   "outputs": [
    {
     "name": "stdout",
     "output_type": "stream",
     "text": [
      "Upper Bound: 51.82867011488877\n",
      "Lower Bound: -37.22850208617114\n"
     ]
    }
   ],
   "source": [
    "avg = 7.300084014358817\n",
    "std = 22.26429305026498\n",
    "upper_bound = avg + 2 * std\n",
    "lower_bound = avg - 2 *std\n",
    "\n",
    "print('Upper Bound:', upper_bound)\n",
    "print('Lower Bound:', lower_bound)"
   ]
  },
  {
   "cell_type": "markdown",
   "metadata": {},
   "source": [
    "* We can then use these results to perform the final task which is to list all the Users with a tagging frequency within 2 standard deviations of the mean.\n",
    "* This means setting a lower and upper bound from the mean. We add 2 times the std to the mean and also subtracted the same respectively.\n",
    "* This means that we use an upper bound of 51.82867011488877, and a lower bound of 0 since Users can not tag a negative amount of times\n",
    "* We filterer out all the Users with a tagging frequency within this range and saved them in a Pandas list"
   ]
  },
  {
   "cell_type": "code",
   "execution_count": 48,
   "metadata": {},
   "outputs": [
    {
     "name": "stdout",
     "output_type": "stream",
     "text": [
      "List of users is within 2 stds of mean: \n",
      " 0          15\n",
      "1          20\n",
      "2          21\n",
      "3          25\n",
      "4          31\n",
      "        ...  \n",
      "3957    70243\n",
      "3958    70642\n",
      "3959    70645\n",
      "3960    70899\n",
      "3961    71155\n",
      "Name: UserID, Length: 3962, dtype: int32\n"
     ]
    }
   ],
   "source": [
    "filtered_tags_per_session = avg_tags_per_session.filter(F.col('avg(count)') <= upper_bound)\n",
    "user_list = filtered_tags_per_session.toPandas()['UserID']\n",
    "print('List of users is within 2 stds of mean: \\n', user_list)"
   ]
  },
  {
   "cell_type": "markdown",
   "metadata": {},
   "source": [
    "# End"
   ]
  }
 ],
 "metadata": {
  "kernelspec": {
   "display_name": "Python 3",
   "language": "python",
   "name": "python3"
  },
  "language_info": {
   "codemirror_mode": {
    "name": "ipython",
    "version": 3
   },
   "file_extension": ".py",
   "mimetype": "text/x-python",
   "name": "python",
   "nbconvert_exporter": "python",
   "pygments_lexer": "ipython3",
   "version": "3.10.12"
  },
  "orig_nbformat": 4
 },
 "nbformat": 4,
 "nbformat_minor": 2
}
